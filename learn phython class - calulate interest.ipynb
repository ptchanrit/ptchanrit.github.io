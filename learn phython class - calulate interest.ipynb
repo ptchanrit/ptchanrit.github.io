{
  "nbformat": 4,
  "nbformat_minor": 0,
  "metadata": {
    "colab": {
      "provenance": [],
      "authorship_tag": "ABX9TyOGXPiwDuSxMfRGlzshscrx",
      "include_colab_link": true
    },
    "kernelspec": {
      "name": "python3",
      "display_name": "Python 3"
    },
    "language_info": {
      "name": "python"
    }
  },
  "cells": [
    {
      "cell_type": "markdown",
      "metadata": {
        "id": "view-in-github",
        "colab_type": "text"
      },
      "source": [
        "<a href=\"https://colab.research.google.com/github/ptchanrit/ptchanrit.github.io/blob/main/learn%20phython%20class%20-%20calulate%20interest.ipynb\" target=\"_parent\"><img src=\"https://colab.research.google.com/assets/colab-badge.svg\" alt=\"Open In Colab\"/></a>"
      ]
    },
    {
      "cell_type": "code",
      "execution_count": 63,
      "metadata": {
        "id": "fzlYK0aKIuGZ"
      },
      "outputs": [],
      "source": [
        "from datetime import date\n",
        "#object : vriables + methods\n",
        "\n",
        "\n",
        "class Account :\n",
        "  def __init__(self , numID) :\n",
        "      self.number = numID\n",
        "      self.account_type()\n",
        "\n",
        "  def account_type(self) :\n",
        "      if str(self.number).startswith(\"1\") :\n",
        "          self.type = \"current\"\n",
        "      elif  str(self.number).startswith(\"2\") :\n",
        "          self.type = \"saving\"\n",
        "\n",
        "  def interest_rate(self):\n",
        "      if  self.type == \"current\" :\n",
        "         self.interest = 0\n",
        "      elif  self.type == \"saving\":\n",
        "         self.interest = 5\n",
        "\n",
        "         return self.interest\n",
        "\n",
        "  def interest_accrued(self):\n",
        "      self.interest_rate()\n",
        "      self.balance = 1000\n",
        "      current_date = date.today()\n",
        "      beginning_date = date(current_date.year , 1, 1)\n",
        "\n",
        "      self.interest_accrued = self.balance * (abs(current_date - beginning_date).days/365) * self.interest/100\n",
        "\n",
        "      return  self.interest_accrued  + self.balance\n"
      ]
    },
    {
      "cell_type": "code",
      "source": [
        "acc =Account(2001)"
      ],
      "metadata": {
        "id": "E7dQphtfJrbB"
      },
      "execution_count": 69,
      "outputs": []
    },
    {
      "cell_type": "markdown",
      "source": [],
      "metadata": {
        "id": "9KFwY7XaM7Zg"
      }
    },
    {
      "cell_type": "code",
      "source": [
        "acc.type"
      ],
      "metadata": {
        "colab": {
          "base_uri": "https://localhost:8080/",
          "height": 34
        },
        "id": "fl3ZYWcgJxDD",
        "outputId": "c342b8c7-0c71-434f-f24f-394291788fc1"
      },
      "execution_count": 66,
      "outputs": [
        {
          "output_type": "execute_result",
          "data": {
            "text/plain": [
              "'current'"
            ],
            "application/vnd.google.colaboratory.intrinsic+json": {
              "type": "string"
            }
          },
          "metadata": {},
          "execution_count": 66
        }
      ]
    },
    {
      "cell_type": "code",
      "source": [
        "acc.interest_rate()"
      ],
      "metadata": {
        "id": "IqtYh-AIMGJR"
      },
      "execution_count": 67,
      "outputs": []
    },
    {
      "cell_type": "code",
      "source": [
        "acc.interest_accrued()"
      ],
      "metadata": {
        "colab": {
          "base_uri": "https://localhost:8080/"
        },
        "id": "3hIzeyA0M-9H",
        "outputId": "d4a58e78-f4d4-4062-a8fc-c538dcf7d5ba"
      },
      "execution_count": 70,
      "outputs": [
        {
          "output_type": "execute_result",
          "data": {
            "text/plain": [
              "1022.7397260273973"
            ]
          },
          "metadata": {},
          "execution_count": 70
        }
      ]
    },
    {
      "cell_type": "code",
      "source": [
        "acc.interest_accrued"
      ],
      "metadata": {
        "colab": {
          "base_uri": "https://localhost:8080/"
        },
        "id": "WgLE8_nwm5Z4",
        "outputId": "d8633740-62a4-4ca1-bcfc-0ce0b0b3e6ae"
      },
      "execution_count": 61,
      "outputs": [
        {
          "output_type": "execute_result",
          "data": {
            "text/plain": [
              "22.739726027397264"
            ]
          },
          "metadata": {},
          "execution_count": 61
        }
      ]
    },
    {
      "cell_type": "code",
      "source": [],
      "metadata": {
        "id": "oNd3OYoXnYRa"
      },
      "execution_count": null,
      "outputs": []
    }
  ]
}